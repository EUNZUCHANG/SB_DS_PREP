{
 "cells": [
  {
   "cell_type": "markdown",
   "id": "7bf93d89",
   "metadata": {},
   "source": [
    "# SPRINGBOARD DATA SCIENCE PREP COURSE - MINI PROJECTS - PART 04"
   ]
  },
  {
   "cell_type": "markdown",
   "id": "3a18953d",
   "metadata": {},
   "source": [
    "### BRUTE-FORCE SEARCH: MINI PROJECT 5.2.1\n",
    "\n",
    "#### You're just going to build a brute-force search algorithm that will try to find a number inside an unsorted set of numbers."
   ]
  },
  {
   "cell_type": "code",
   "execution_count": 2,
   "id": "0c4b25fb",
   "metadata": {},
   "outputs": [
    {
     "name": "stdout",
     "output_type": "stream",
     "text": [
      "Query number?: 3\n",
      "True\n"
     ]
    }
   ],
   "source": [
    "def search(numbers, query_number):\n",
    "    found_number = False\n",
    "    \n",
    "    for number in numbers:\n",
    "        if number == query_number: #[Error] number = query_number\n",
    "            found_number=True\n",
    "            break\n",
    "            \n",
    "    return found_number\n",
    "\n",
    "\n",
    "# Don't change code below this line\n",
    "query_number = int(input(\"Query number?: \")) #without int, it will be recognizes as str\n",
    "numbers = [40, 512, 31, 3, 50, 610, 2]\n",
    "print(search(numbers, query_number))"
   ]
  },
  {
   "cell_type": "markdown",
   "id": "db3b55f7",
   "metadata": {},
   "source": [
    "### BINARY SEARCH: MINI PROJECT 5.2.2\n",
    "\n",
    "#### When using the brute-force search, you have to compare an element against all the items in a list until you've found the query item. However, when you've already sorted the list you're working with, you can make smarter and faster algorithms. One such algorithm is the Binary Search."
   ]
  },
  {
   "cell_type": "code",
   "execution_count": 3,
   "id": "bd94d2df",
   "metadata": {},
   "outputs": [
    {
     "name": "stdout",
     "output_type": "stream",
     "text": [
      "Your 1st attempt number?: 4222\n",
      "True\n",
      "Your 2nd attempt number?: 33\n",
      "False\n"
     ]
    }
   ],
   "source": [
    "\n",
    "def binary_search(list_of_numbers, query_item):\n",
    "    #Set index of the first item in the list and an index of the last item in the list\n",
    "    index_first = 0\n",
    "    index_last = len(list_of_numbers)-1\n",
    "    #Set the found variable to False\n",
    "    found = False\n",
    "\n",
    "    while index_first<=index_last and not found: \n",
    "    #Check if the index_first is less than or equal to the index_last\n",
    "        \n",
    "        middle_index = (index_first + index_last)//2 \n",
    "        #using index_first and index_last find the middle index\n",
    "\n",
    "        if query_item == list_of_numbers[middle_index]: \n",
    "        #Check if the middle element is equal to the query_item\n",
    "        #[Incorrect] query_item == middle_index     \n",
    "            found = True\n",
    "            break\n",
    "        else:\n",
    "            if query_item < list_of_numbers[middle_index]:\n",
    "\t            index_last = middle_index-1\n",
    "                #If the query_item is less than the middle item, \n",
    "                #use the index_last to eliminate the upper part of the list\n",
    "            else:\n",
    "                index_first = middle_index + 1\n",
    "    \n",
    "    #Return the found boolean variable\n",
    "    return found\n",
    "\n",
    "#Do not change code below this line\n",
    "test_list = [4, 13, 22, 28, 34, 117, 943, 1032, 4222]\n",
    "first_query=int(input('Your 1st attempt number?: '))\n",
    "print(binary_search(test_list, first_query))\n",
    "second_query=int(input('Your 2nd attempt number?: '))\n",
    "print(binary_search(test_list, second_query))"
   ]
  },
  {
   "cell_type": "markdown",
   "id": "284d1ef1",
   "metadata": {},
   "source": [
    "### BUBBLE SORT: MINI PROJECT 5.2.3\n",
    "\n",
    "#### The Bubble Sort is one of the simplest sorting algorithms to use (and also one of the most entertaining to mention in passing conversation)! "
   ]
  },
  {
   "cell_type": "code",
   "execution_count": 4,
   "id": "01d54a7e",
   "metadata": {},
   "outputs": [
    {
     "name": "stdout",
     "output_type": "stream",
     "text": [
      "[20, 31, 5, 1, 591, 1351, 693] \n",
      "\n",
      "[20, 5, 31, 1, 591, 1351, 693]\n",
      "[20, 5, 1, 31, 591, 1351, 693]\n",
      "[20, 5, 1, 31, 591, 693, 1351]\n",
      "[5, 20, 1, 31, 591, 693, 1351]\n",
      "[5, 1, 20, 31, 591, 693, 1351]\n",
      "[1, 5, 20, 31, 591, 693, 1351]\n",
      "\n",
      "Final List: [1, 5, 20, 31, 591, 693, 1351]\n"
     ]
    }
   ],
   "source": [
    "def bubble_sort(list_of_numbers):\n",
    "\n",
    "    #run N times, where N is number of elements in a list\n",
    "    for i in range(len(list_of_numbers)): \n",
    "    \n",
    "        # Last i elements are already in place\n",
    "        # It starts at 1 so we can access the previous element\n",
    "        for j in range(1,len(list_of_numbers)-i): # N-i elements\n",
    "            #check if previous element is bigger than the current element\n",
    "            if list_of_numbers[j-1]>list_of_numbers[j]: \n",
    "                \n",
    "                #Swap code from the instructors notes:\n",
    "                temp = list_of_numbers[j-1]\n",
    "                list_of_numbers[j-1] = list_of_numbers[j]\n",
    "                list_of_numbers[j] = temp\n",
    "                print(list_of_numbers)\n",
    "\n",
    "    return list_of_numbers\n",
    "\n",
    "#Do not change code below this line\n",
    "unsorted_list = [20, 31, 5, 1, 591, 1351, 693]\n",
    "print(unsorted_list,'\\n')\n",
    "print('\\nFinal List:',bubble_sort(unsorted_list))"
   ]
  },
  {
   "cell_type": "markdown",
   "id": "3bc30c9b",
   "metadata": {},
   "source": [
    "### INSERTION SORT: MINI PROJECT 5.2.4\n",
    "\n",
    "#### Insertion Sort is an elegant, simple sorting algorithm that works in a similar way to how you sort playing cards in your hands."
   ]
  },
  {
   "cell_type": "code",
   "execution_count": 5,
   "id": "123167d4",
   "metadata": {},
   "outputs": [
    {
     "name": "stdout",
     "output_type": "stream",
     "text": [
      "[45, 16, 33, 4, 551, 76, 20] \n",
      "\n",
      "[45, 16, 33, 4, 551, 76, 20]\n",
      "[16, 45, 33, 4, 551, 76, 20]\n",
      "[16, 33, 45, 4, 551, 76, 20]\n",
      "[4, 16, 33, 45, 551, 76, 20]\n",
      "[4, 16, 33, 45, 551, 76, 20]\n",
      "[4, 16, 33, 45, 76, 551, 20]\n",
      "[4, 16, 20, 33, 45, 76, 551]\n",
      "\n",
      " [4, 16, 20, 33, 45, 76, 551]\n"
     ]
    }
   ],
   "source": [
    "def insert_sort(list_of_numbers):\n",
    "    \n",
    "    for index in range(len(list_of_numbers)):\n",
    "\n",
    "        \n",
    "\n",
    "        #Access the current element\n",
    "        current_element = list_of_numbers[index]\n",
    "        #[Incorrect] list_of_numbers(index)\n",
    "        position = index\n",
    "\n",
    "        #Check if a position is greater than zero \n",
    "        #AND the previous item is greater than the current element\n",
    "        while position > 0 and list_of_numbers[position-1] > current_element:\n",
    "            list_of_numbers[position] = list_of_numbers[position-1] \n",
    "            # Set the value of the positioned element to the value of the previous element. \n",
    "            # We are doing this to make space for the new (inserted item)\n",
    "            position = position - 1 \n",
    "            #Move position to one back\n",
    "            \n",
    "\n",
    "        #Set the value of the final positioned item to be \n",
    "        #the value of the current_element\n",
    "        list_of_numbers[position] = current_element\n",
    "        print(list_of_numbers)\n",
    "    return list_of_numbers\n",
    "\n",
    "#Do not change code below this line\n",
    "list_of_numbers = [45,16,33,4,551,76,20]\n",
    "print(list_of_numbers,'\\n')\n",
    "print('\\n',insert_sort(list_of_numbers))"
   ]
  },
  {
   "cell_type": "code",
   "execution_count": null,
   "id": "0f6b1144",
   "metadata": {},
   "outputs": [],
   "source": []
  }
 ],
 "metadata": {
  "kernelspec": {
   "display_name": "Python 3 (ipykernel)",
   "language": "python",
   "name": "python3"
  },
  "language_info": {
   "codemirror_mode": {
    "name": "ipython",
    "version": 3
   },
   "file_extension": ".py",
   "mimetype": "text/x-python",
   "name": "python",
   "nbconvert_exporter": "python",
   "pygments_lexer": "ipython3",
   "version": "3.9.7"
  }
 },
 "nbformat": 4,
 "nbformat_minor": 5
}
