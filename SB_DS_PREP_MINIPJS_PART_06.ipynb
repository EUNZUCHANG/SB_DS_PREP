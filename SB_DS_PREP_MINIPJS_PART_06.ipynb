{
 "cells": [
  {
   "cell_type": "markdown",
   "id": "7bf93d89",
   "metadata": {},
   "source": [
    "# SPRINGBOARD DATA SCIENCE PREP COURSE - MINI PROJECTS - PART 06"
   ]
  },
  {
   "cell_type": "markdown",
   "id": "3a18953d",
   "metadata": {},
   "source": [
    "### BUBBLE SORT: MINI PROJECT 5.4\n",
    "\n",
    "#### Write out your favorite implementation of Bubble sort, and print out the result of calling it on the following unsorted lists:\n",
    "\n",
    "##### test0 = [3, 22, 14, 434, 501, 11, 9, 1230, 304, 123, 5412, 381923, 302, -3, 1]\n",
    "##### test1 = [43, 12, 7, 9, 22, 1, 104]\n",
    "##### test2 = [100, 0, 0, -20, 30, -5]\n",
    "##### test3  = [28, 4, 17, 666, 1001, 52, 61, 30]"
   ]
  },
  {
   "cell_type": "code",
   "execution_count": 1,
   "id": "0c4b25fb",
   "metadata": {},
   "outputs": [
    {
     "name": "stdout",
     "output_type": "stream",
     "text": [
      "TEST 0\n",
      "Unsorted List: [3, 22, 14, 434, 501, 11, 9, 1230, 304, 123, 5412, 381923, 302, -3, 1]\n",
      "Sorted List: [-3, 1, 3, 9, 11, 14, 22, 123, 302, 304, 434, 501, 1230, 5412, 381923] \n",
      "\n",
      "TEST 1\n",
      "Unsorted List: [43, 12, 7, 9, 22, 1, 104]\n",
      "Sorted List: [1, 7, 9, 12, 22, 43, 104] \n",
      "\n",
      "TEST 2\n",
      "Unsorted List: [100, 0, 0, -20, 30, -5]\n",
      "Sorted List: [-20, -5, 0, 0, 30, 100] \n",
      "\n",
      "TEST 3\n",
      "Unsorted List: [28, 4, 17, 666, 1001, 52, 61, 30]\n",
      "Sorted List: [4, 17, 28, 30, 52, 61, 666, 1001] \n",
      "\n"
     ]
    }
   ],
   "source": [
    "test0 = [3, 22, 14, 434, 501, 11, 9, 1230, 304, 123, 5412, 381923, 302, -3, 1]\n",
    "test1 = [43, 12, 7, 9, 22, 1, 104]\n",
    "test2 = [100, 0, 0, -20, 30, -5]\n",
    "test3  = [28, 4, 17, 666, 1001, 52, 61, 30]\n",
    "\n",
    "tests = [test0,test1,test2,test3]\n",
    "\n",
    "def bubble_sort(list_of_numbers):\n",
    "\n",
    "    for i in range(len(list_of_numbers)): \n",
    "\n",
    "        for j in range(1,len(list_of_numbers)-i): \n",
    "            if list_of_numbers[j-1]>list_of_numbers[j]: \n",
    "                \n",
    "                temp = list_of_numbers[j-1]\n",
    "                list_of_numbers[j-1] = list_of_numbers[j]\n",
    "                list_of_numbers[j] = temp\n",
    "\n",
    "    return list_of_numbers\n",
    "\n",
    "for i in tests:\n",
    "    print('TEST',tests.index(i))\n",
    "    print('Unsorted List:', i)\n",
    "    print('Sorted List:',bubble_sort(i),'\\n')\n"
   ]
  },
  {
   "cell_type": "markdown",
   "id": "2da49c6e",
   "metadata": {},
   "source": [
    "### INSERTION SORT: MINI PROJECT 5.4\n",
    "\n",
    "#### Write out your favorite implementation of Bubble sort, and print out the result of calling it on the following unsorted lists:\n",
    "\n",
    "##### test0 = [3, 22, 14, 434, 501, 11, 9, 1230, 304, 123, 5412, 381923, 302, -3, 1]\n",
    "##### test1 = [43, 12, 7, 9, 22, 1, 104]\n",
    "##### test2 = [100, 0, 0, -20, 30, -5]\n",
    "##### test3  = [28, 4, 17, 666, 1001, 52, 61, 30]"
   ]
  },
  {
   "cell_type": "code",
   "execution_count": 3,
   "id": "0f6b1144",
   "metadata": {},
   "outputs": [
    {
     "name": "stdout",
     "output_type": "stream",
     "text": [
      "TEST 0\n",
      "Unsorted List: [3, 22, 14, 434, 501, 11, 9, 1230, 304, 123, 5412, 381923, 302, -3, 1]\n",
      "Sorted List: [-3, 1, 3, 9, 11, 14, 22, 123, 302, 304, 434, 501, 1230, 5412, 381923] \n",
      "\n",
      "TEST 1\n",
      "Unsorted List: [43, 12, 7, 9, 22, 1, 104]\n",
      "Sorted List: [1, 7, 9, 12, 22, 43, 104] \n",
      "\n",
      "TEST 2\n",
      "Unsorted List: [100, 0, 0, -20, 30, -5]\n",
      "Sorted List: [-20, -5, 0, 0, 30, 100] \n",
      "\n",
      "TEST 3\n",
      "Unsorted List: [28, 4, 17, 666, 1001, 52, 61, 30]\n",
      "Sorted List: [4, 17, 28, 30, 52, 61, 666, 1001] \n",
      "\n"
     ]
    }
   ],
   "source": [
    "test0 = [3, 22, 14, 434, 501, 11, 9, 1230, 304, 123, 5412, 381923, 302, -3, 1]\n",
    "test1 = [43, 12, 7, 9, 22, 1, 104]\n",
    "test2 = [100, 0, 0, -20, 30, -5]\n",
    "test3  = [28, 4, 17, 666, 1001, 52, 61, 30]\n",
    "\n",
    "tests = [test0,test1,test2,test3]\n",
    "\n",
    "def insert_sort(list_of_numbers):\n",
    "    \n",
    "    for index in range(len(list_of_numbers)):\n",
    "\n",
    "        \n",
    "\n",
    "        #Access the current element\n",
    "        current_element = list_of_numbers[index]\n",
    "        #[Incorrect] list_of_numbers(index)\n",
    "        position = index\n",
    "\n",
    "        #Check if a position is greater than zero \n",
    "        #AND the previous item is greater than the current element\n",
    "        while position > 0 and list_of_numbers[position-1] > current_element:\n",
    "            list_of_numbers[position] = list_of_numbers[position-1] \n",
    "            # Set the value of the positioned element to the value of the previous element. \n",
    "            # We are doing this to make space for the new (inserted item)\n",
    "            position = position - 1 \n",
    "            #Move position to one back\n",
    "            \n",
    "\n",
    "        #Set the value of the final positioned item to be \n",
    "        #the value of the current_element\n",
    "        list_of_numbers[position] = current_element\n",
    "        \n",
    "    return list_of_numbers\n",
    "\n",
    "for i in tests:\n",
    "    print('TEST',tests.index(i))\n",
    "    print('Unsorted List:', i)\n",
    "    print('Sorted List:',insert_sort(i),'\\n')\n"
   ]
  },
  {
   "cell_type": "code",
   "execution_count": null,
   "id": "ac73b400",
   "metadata": {},
   "outputs": [],
   "source": []
  }
 ],
 "metadata": {
  "kernelspec": {
   "display_name": "Python 3 (ipykernel)",
   "language": "python",
   "name": "python3"
  },
  "language_info": {
   "codemirror_mode": {
    "name": "ipython",
    "version": 3
   },
   "file_extension": ".py",
   "mimetype": "text/x-python",
   "name": "python",
   "nbconvert_exporter": "python",
   "pygments_lexer": "ipython3",
   "version": "3.9.7"
  }
 },
 "nbformat": 4,
 "nbformat_minor": 5
}
