{
 "cells": [
  {
   "cell_type": "markdown",
   "id": "7bf93d89",
   "metadata": {},
   "source": [
    "# SPRINGBOARD DATA SCIENCE PREP COURSE - MINI PROJECTS - PART 07"
   ]
  },
  {
   "cell_type": "markdown",
   "id": "3a18953d",
   "metadata": {},
   "source": [
    "### BRUTE-FORCE SEARCH: MINI PROJECT 5.4"
   ]
  },
  {
   "cell_type": "code",
   "execution_count": 1,
   "id": "0c4b25fb",
   "metadata": {},
   "outputs": [
    {
     "name": "stdout",
     "output_type": "stream",
     "text": [
      "NUMBERS      :  [-3, 1, 3, 9, 11, 14, 22, 123, 302, 304, 434, 501, 1230, 5412, 381923]\n",
      "QUERY_NUMBER :  13\n",
      "RESULT       :  False\n",
      "NUMBERS      :  [1, 7, 9, 12, 22, 43, 104]\n",
      "QUERY_NUMBER :  9\n",
      "RESULT       :  True\n",
      "NUMBERS      :  [-20, -5, 0, 0, 30, 100]\n",
      "QUERY_NUMBER :  31\n",
      "RESULT       :  False\n",
      "NUMBERS      :  [4, 17, 28, 30, 52, 61, 666, 1001]\n",
      "QUERY_NUMBER :  666\n",
      "RESULT       :  True\n"
     ]
    }
   ],
   "source": [
    "test0 = [-3, 1, 3, 9, 11, 14, 22, 123, 302, 304, 434, 501, 1230, 5412, 381923]\n",
    "searchItem0 = 13\n",
    " \n",
    "test1 = [1, 7, 9, 12, 22, 43, 104]\n",
    "searchItem1 = 9\n",
    " \n",
    "test2 = [-20, -5, 0, 0, 30, 100]\n",
    "searchItem2 = 31\n",
    " \n",
    "test3 = [4, 17, 28, 30, 52, 61, 666, 1001]\n",
    "searchItem3 = 666\n",
    "\n",
    "\n",
    "#Brute-force search\n",
    "def search(numbers, query_number):\n",
    "    found_number = False\n",
    "    \n",
    "    for number in numbers:\n",
    "        if number == query_number: #[Error] number = query_number\n",
    "            found_number=True\n",
    "            break\n",
    "            \n",
    "    return found_number\n",
    "\n",
    "tests = [test0,test1,test2,test3]\n",
    "searchItems=[searchItem0,searchItem1,searchItem2,searchItem3]\n",
    "\n",
    "for i in range (len(tests)):\n",
    "    print('NUMBERS      : ',tests[i])\n",
    "    print('QUERY_NUMBER : ',searchItems[i])\n",
    "    print('RESULT       : ',search(tests[i], searchItems[i]))\n"
   ]
  },
  {
   "cell_type": "markdown",
   "id": "2da49c6e",
   "metadata": {},
   "source": [
    "### BINARY-SEARCH: MINI PROJECT 5.4"
   ]
  },
  {
   "cell_type": "code",
   "execution_count": 2,
   "id": "0f6b1144",
   "metadata": {},
   "outputs": [
    {
     "name": "stdout",
     "output_type": "stream",
     "text": [
      "NUMBERS      :  [-3, 1, 3, 9, 11, 14, 22, 123, 302, 304, 434, 501, 1230, 5412, 381923]\n",
      "QUERY_NUMBER :  13\n",
      "RESULT       :  False\n",
      "NUMBERS      :  [1, 7, 9, 12, 22, 43, 104]\n",
      "QUERY_NUMBER :  9\n",
      "RESULT       :  True\n",
      "NUMBERS      :  [-20, -5, 0, 0, 30, 100]\n",
      "QUERY_NUMBER :  31\n",
      "RESULT       :  False\n",
      "NUMBERS      :  [4, 17, 28, 30, 52, 61, 666, 1001]\n",
      "QUERY_NUMBER :  666\n",
      "RESULT       :  True\n"
     ]
    }
   ],
   "source": [
    "test0 = [-3, 1, 3, 9, 11, 14, 22, 123, 302, 304, 434, 501, 1230, 5412, 381923]\n",
    "searchItem0 = 13\n",
    " \n",
    "test1 = [1, 7, 9, 12, 22, 43, 104]\n",
    "searchItem1 = 9\n",
    " \n",
    "test2 = [-20, -5, 0, 0, 30, 100]\n",
    "searchItem2 = 31\n",
    " \n",
    "test3 = [4, 17, 28, 30, 52, 61, 666, 1001]\n",
    "searchItem3 = 666\n",
    "\n",
    "\n",
    "#Binary search\n",
    "def binary_search(list_of_numbers, query_item):\n",
    "    index_first = 0\n",
    "    index_last = len(list_of_numbers)-1\n",
    "    found = False\n",
    "\n",
    "    while index_first<=index_last and not found: \n",
    "        middle_index = (index_first + index_last)//2 \n",
    "        if query_item == list_of_numbers[middle_index]: \n",
    "            found = True\n",
    "            break\n",
    "        else:\n",
    "            if query_item < list_of_numbers[middle_index]:\n",
    "\t            index_last = middle_index-1\n",
    "            else:\n",
    "                index_first = middle_index + 1\n",
    "    return found\n",
    "\n",
    "tests = [test0,test1,test2,test3]\n",
    "searchItems=[searchItem0,searchItem1,searchItem2,searchItem3]\n",
    "\n",
    "for i in range (len(tests)):\n",
    "    print('NUMBERS      : ',tests[i])\n",
    "    print('QUERY_NUMBER : ',searchItems[i])\n",
    "    print('RESULT       : ',binary_search(tests[i], searchItems[i]))\n"
   ]
  },
  {
   "cell_type": "code",
   "execution_count": null,
   "id": "ac73b400",
   "metadata": {},
   "outputs": [],
   "source": []
  }
 ],
 "metadata": {
  "kernelspec": {
   "display_name": "Python 3 (ipykernel)",
   "language": "python",
   "name": "python3"
  },
  "language_info": {
   "codemirror_mode": {
    "name": "ipython",
    "version": 3
   },
   "file_extension": ".py",
   "mimetype": "text/x-python",
   "name": "python",
   "nbconvert_exporter": "python",
   "pygments_lexer": "ipython3",
   "version": "3.9.7"
  }
 },
 "nbformat": 4,
 "nbformat_minor": 5
}
