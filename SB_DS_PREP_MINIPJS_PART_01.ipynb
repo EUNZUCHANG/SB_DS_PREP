{
 "cells": [
  {
   "cell_type": "markdown",
   "id": "7bf93d89",
   "metadata": {},
   "source": [
    "# SPRINGBOARD DATA SCIENCE PREP COURSE - MINI PROJECTS"
   ]
  },
  {
   "cell_type": "markdown",
   "id": "3a18953d",
   "metadata": {},
   "source": [
    "### MEAN FUNCTION: MINI PROJECT 2.2.2.9\n",
    "\n",
    "#### Thee goal will be to find the mean of the array numbers using an alternative method -- functions!"
   ]
  },
  {
   "cell_type": "code",
   "execution_count": 4,
   "id": "0c4b25fb",
   "metadata": {},
   "outputs": [
    {
     "name": "stdout",
     "output_type": "stream",
     "text": [
      "1309.9142857142856\n",
      "1309.9142857142856\n"
     ]
    }
   ],
   "source": [
    "numbers = [13, 5102, 45, 2301.40, 203, 1502, 3]\n",
    "\n",
    "numbers_sum = sum(numbers)\n",
    "\n",
    "if len(numbers) >= 1:\n",
    "    print(numbers_sum/len(numbers))\n",
    "else:\n",
    "    print(0)\n",
    "    \n",
    "# Complete the mean function \n",
    "def mean(arg_numbers):\n",
    "    numbs_sum = sum(arg_numbers)\n",
    "    \n",
    "    if len(arg_numbers)>=1:\n",
    "        return numbs_sum/len(arg_numbers)\n",
    "    else:\n",
    "        return 0\n",
    "\n",
    "# Test code\n",
    "print(mean(numbers))"
   ]
  },
  {
   "cell_type": "markdown",
   "id": "ea3ce9d9",
   "metadata": {},
   "source": [
    "### A LITTLE THEORY: MINI PROJECT 2.3\n",
    "\n",
    "#### Write a Caesar Cipher function. "
   ]
  },
  {
   "cell_type": "code",
   "execution_count": 5,
   "id": "3156ac5b",
   "metadata": {},
   "outputs": [
    {
     "name": "stdout",
     "output_type": "stream",
     "text": [
      "(1) A string for message: Here's 2 U MRS Robinson\n",
      "(2) integer for the shift: 1\n",
      "\n",
      "[RESULT]\n",
      "your massege is: Here's 2 U MRS Robinson\n",
      "Shifting number: 1 character(s)\n",
      "The encrypted massege is:Ifsf(t!3!V!NST!Spcjotpo\n"
     ]
    }
   ],
   "source": [
    "def cCipher(msg,num):\n",
    "    result='' \n",
    "\n",
    "    if type(msg)==str:\n",
    "\n",
    "        for i in range (len(msg)):\n",
    "            \n",
    "            #Convert the 'i'th character into Unicode\n",
    "            char=msg[i]\n",
    "            ord_num=ord(char)\n",
    "\n",
    "            #shifting the Unicode by \"num\"\n",
    "            new_ord_num=ord_num+int(num)\n",
    "\n",
    "            #keys on the keyboard are assinged fron 32 to 126 in Unicode\n",
    "            if new_ord_num<=126:\n",
    "                new_ord_num=new_ord_num\n",
    "            else:\n",
    "                new_ord_num=new_ord_num-126+31\n",
    "            \n",
    "            #convert the unicode into character\n",
    "            new_char=chr(new_ord_num)\n",
    "\n",
    "            result = result + new_char\n",
    "            \n",
    "    else:\n",
    "        print(\"The input is not a string\")\n",
    "\n",
    "    print('')\n",
    "    print('[RESULT]')    \n",
    "    print('your massege is: '+  msg )\n",
    "    print('Shifting number: '+num+' character(s)')\n",
    "    print('The encrypted massege is:'+ result)\n",
    "\n",
    "\n",
    "# Execute\n",
    "msg=input('(1) A string for message: ')\n",
    "num=input('(2) integer for the shift: ')\n",
    "\n",
    "cCipher(msg,num)\n"
   ]
  }
 ],
 "metadata": {
  "kernelspec": {
   "display_name": "Python 3 (ipykernel)",
   "language": "python",
   "name": "python3"
  },
  "language_info": {
   "codemirror_mode": {
    "name": "ipython",
    "version": 3
   },
   "file_extension": ".py",
   "mimetype": "text/x-python",
   "name": "python",
   "nbconvert_exporter": "python",
   "pygments_lexer": "ipython3",
   "version": "3.9.7"
  }
 },
 "nbformat": 4,
 "nbformat_minor": 5
}
