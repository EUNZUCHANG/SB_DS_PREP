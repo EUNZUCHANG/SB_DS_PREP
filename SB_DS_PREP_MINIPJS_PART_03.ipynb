{
 "cells": [
  {
   "cell_type": "markdown",
   "id": "7bf93d89",
   "metadata": {},
   "source": [
    "# SPRINGBOARD DATA SCIENCE PREP COURSE - MINI PROJECTS - PART 03"
   ]
  },
  {
   "cell_type": "markdown",
   "id": "3a18953d",
   "metadata": {},
   "source": [
    "### STRINGS IN A MIRROR: MINI PROJECT 5.1.2\n",
    "\n",
    "#### REVERSE A STRINGS"
   ]
  },
  {
   "cell_type": "code",
   "execution_count": null,
   "id": "0c4b25fb",
   "metadata": {},
   "outputs": [],
   "source": [
    "#All function that you have implemented in the previous steps\n",
    "def push(stack, new_item):\n",
    "\tstack.append(new_item)\n",
    "\n",
    "def is_empty(stack):\n",
    "\treturn stack == []\n",
    "\n",
    "def size(stack):\n",
    "    return len(stack)\n",
    "\n",
    "#Do not change any code above this line.\n",
    "\n",
    "\n",
    "def reverse_string(string):\n",
    "    #We have defined the stack for you\n",
    "    stack = []\n",
    "    \n",
    "    for char in string:\n",
    "        push(stack,char) #push to stack\n",
    "\n",
    "    new_string = \"\"\n",
    "\n",
    "    while not is_empty(stack): #Check if the stack is empty\n",
    "        new_string += \"\" + stack.pop() #pop the last element\n",
    "\n",
    "    return new_string\n",
    "\n",
    "#Tests\n",
    "input_sentence=input('Input the string to reverse:')\n",
    "print(reverse_string(input_sentence))\n"
   ]
  },
  {
   "cell_type": "markdown",
   "id": "db3b55f7",
   "metadata": {},
   "source": [
    "### HOT POTATO SIMULATOR: MINI PROJECT 5.1.2\n",
    "\n",
    "#### Queue Exercise: Hot potato simulator"
   ]
  },
  {
   "cell_type": "code",
   "execution_count": 4,
   "id": "bd94d2df",
   "metadata": {},
   "outputs": [
    {
     "name": "stdout",
     "output_type": "stream",
     "text": [
      "Maria\n"
     ]
    }
   ],
   "source": [
    "#Functions that you have implemented in the Queue section\n",
    "\n",
    "def enqueue(queue, new_item):\n",
    "\tqueue.append(new_item)\n",
    "\n",
    "def dequeue(queue):\n",
    "    #We have added return here, just to return the item that is being removed\n",
    "\treturn queue.pop(0)\n",
    "    \n",
    "def is_empty(queue):\n",
    "\treturn len(queue) == 0\n",
    "\n",
    "def size(queue):\n",
    "    return len(queue)\n",
    "\n",
    "# Do not change code above this line\n",
    "\n",
    "def hot_potato_simulator(players, turns):\n",
    "    hot_potato_queue = [] \n",
    "    \n",
    "    for player in players:\n",
    "        enqueue(hot_potato_queue,player) #Using enqueue function add a player to the queue\n",
    "\n",
    "    while size(hot_potato_queue) > 1: #Using size function check how many elements are there in the queue\n",
    "        \n",
    "        for i in range(turns):\n",
    "            \n",
    "            enqueue(hot_potato_queue, dequeue(hot_potato_queue)) #Enqueue the next-to-last element from the queue to the end\n",
    "\n",
    "        dequeue(hot_potato_queue) # Dequeue the HOT POTATO player\n",
    "\n",
    "    return dequeue(hot_potato_queue) #Dequeue last element from the queue (The winner)\n",
    "\n",
    "\n",
    "## Do not change code below this line\n",
    "players = [\"Peter\", \"John\", \"Luka\", \"Maria\", \"Sophia\", \"Derek\"]\n",
    "turns = 10\n",
    "print(hot_potato_simulator(players, turns))\n"
   ]
  },
  {
   "cell_type": "code",
   "execution_count": null,
   "id": "e7fb622b",
   "metadata": {},
   "outputs": [],
   "source": []
  }
 ],
 "metadata": {
  "kernelspec": {
   "display_name": "Python 3 (ipykernel)",
   "language": "python",
   "name": "python3"
  },
  "language_info": {
   "codemirror_mode": {
    "name": "ipython",
    "version": 3
   },
   "file_extension": ".py",
   "mimetype": "text/x-python",
   "name": "python",
   "nbconvert_exporter": "python",
   "pygments_lexer": "ipython3",
   "version": "3.9.7"
  }
 },
 "nbformat": 4,
 "nbformat_minor": 5
}
