{
 "cells": [
  {
   "cell_type": "markdown",
   "id": "7bf93d89",
   "metadata": {},
   "source": [
    "# SPRINGBOARD DATA SCIENCE PREP COURSE - MINI PROJECTS - PART 03"
   ]
  },
  {
   "cell_type": "markdown",
   "id": "3a18953d",
   "metadata": {},
   "source": [
    "### STRINGS IN A MIRROR: MINI PROJECT 5.1.2\n",
    "\n",
    "#### REVERSE A STRINGS"
   ]
  },
  {
   "cell_type": "code",
   "execution_count": 1,
   "id": "0c4b25fb",
   "metadata": {},
   "outputs": [
    {
     "ename": "KeyboardInterrupt",
     "evalue": "Interrupted by user",
     "output_type": "error",
     "traceback": [
      "\u001b[1;31m---------------------------------------------------------------------------\u001b[0m",
      "\u001b[1;31mKeyboardInterrupt\u001b[0m                         Traceback (most recent call last)",
      "\u001b[1;32m~\\AppData\\Local\\Temp/ipykernel_24084/1037582337.py\u001b[0m in \u001b[0;36m<module>\u001b[1;34m\u001b[0m\n\u001b[0;32m     27\u001b[0m \u001b[1;33m\u001b[0m\u001b[0m\n\u001b[0;32m     28\u001b[0m \u001b[1;31m#Tests\u001b[0m\u001b[1;33m\u001b[0m\u001b[1;33m\u001b[0m\u001b[0m\n\u001b[1;32m---> 29\u001b[1;33m \u001b[0minput_sentence\u001b[0m\u001b[1;33m=\u001b[0m\u001b[0minput\u001b[0m\u001b[1;33m(\u001b[0m\u001b[1;34m'Input the string to reverse:'\u001b[0m\u001b[1;33m)\u001b[0m\u001b[1;33m\u001b[0m\u001b[1;33m\u001b[0m\u001b[0m\n\u001b[0m\u001b[0;32m     30\u001b[0m \u001b[0mprint\u001b[0m\u001b[1;33m(\u001b[0m\u001b[0mreverse_string\u001b[0m\u001b[1;33m(\u001b[0m\u001b[0minput_setence\u001b[0m\u001b[1;33m)\u001b[0m\u001b[1;33m)\u001b[0m\u001b[1;33m\u001b[0m\u001b[1;33m\u001b[0m\u001b[0m\n",
      "\u001b[1;32m~\\anaconda3\\lib\\site-packages\\ipykernel\\kernelbase.py\u001b[0m in \u001b[0;36mraw_input\u001b[1;34m(self, prompt)\u001b[0m\n\u001b[0;32m   1004\u001b[0m                 \u001b[1;34m\"raw_input was called, but this frontend does not support input requests.\"\u001b[0m\u001b[1;33m\u001b[0m\u001b[1;33m\u001b[0m\u001b[0m\n\u001b[0;32m   1005\u001b[0m             )\n\u001b[1;32m-> 1006\u001b[1;33m         return self._input_request(\n\u001b[0m\u001b[0;32m   1007\u001b[0m             \u001b[0mstr\u001b[0m\u001b[1;33m(\u001b[0m\u001b[0mprompt\u001b[0m\u001b[1;33m)\u001b[0m\u001b[1;33m,\u001b[0m\u001b[1;33m\u001b[0m\u001b[1;33m\u001b[0m\u001b[0m\n\u001b[0;32m   1008\u001b[0m             \u001b[0mself\u001b[0m\u001b[1;33m.\u001b[0m\u001b[0m_parent_ident\u001b[0m\u001b[1;33m[\u001b[0m\u001b[1;34m\"shell\"\u001b[0m\u001b[1;33m]\u001b[0m\u001b[1;33m,\u001b[0m\u001b[1;33m\u001b[0m\u001b[1;33m\u001b[0m\u001b[0m\n",
      "\u001b[1;32m~\\anaconda3\\lib\\site-packages\\ipykernel\\kernelbase.py\u001b[0m in \u001b[0;36m_input_request\u001b[1;34m(self, prompt, ident, parent, password)\u001b[0m\n\u001b[0;32m   1049\u001b[0m             \u001b[1;32mexcept\u001b[0m \u001b[0mKeyboardInterrupt\u001b[0m\u001b[1;33m:\u001b[0m\u001b[1;33m\u001b[0m\u001b[1;33m\u001b[0m\u001b[0m\n\u001b[0;32m   1050\u001b[0m                 \u001b[1;31m# re-raise KeyboardInterrupt, to truncate traceback\u001b[0m\u001b[1;33m\u001b[0m\u001b[1;33m\u001b[0m\u001b[0m\n\u001b[1;32m-> 1051\u001b[1;33m                 \u001b[1;32mraise\u001b[0m \u001b[0mKeyboardInterrupt\u001b[0m\u001b[1;33m(\u001b[0m\u001b[1;34m\"Interrupted by user\"\u001b[0m\u001b[1;33m)\u001b[0m \u001b[1;32mfrom\u001b[0m \u001b[1;32mNone\u001b[0m\u001b[1;33m\u001b[0m\u001b[1;33m\u001b[0m\u001b[0m\n\u001b[0m\u001b[0;32m   1052\u001b[0m             \u001b[1;32mexcept\u001b[0m \u001b[0mException\u001b[0m\u001b[1;33m:\u001b[0m\u001b[1;33m\u001b[0m\u001b[1;33m\u001b[0m\u001b[0m\n\u001b[0;32m   1053\u001b[0m                 \u001b[0mself\u001b[0m\u001b[1;33m.\u001b[0m\u001b[0mlog\u001b[0m\u001b[1;33m.\u001b[0m\u001b[0mwarning\u001b[0m\u001b[1;33m(\u001b[0m\u001b[1;34m\"Invalid Message:\"\u001b[0m\u001b[1;33m,\u001b[0m \u001b[0mexc_info\u001b[0m\u001b[1;33m=\u001b[0m\u001b[1;32mTrue\u001b[0m\u001b[1;33m)\u001b[0m\u001b[1;33m\u001b[0m\u001b[1;33m\u001b[0m\u001b[0m\n",
      "\u001b[1;31mKeyboardInterrupt\u001b[0m: Interrupted by user"
     ]
    }
   ],
   "source": [
    "#All function that you have implemented in the previous steps\n",
    "def push(stack, new_item):\n",
    "\tstack.append(new_item)\n",
    "\n",
    "def is_empty(stack):\n",
    "\treturn stack == []\n",
    "\n",
    "def size(stack):\n",
    "    return len(stack)\n",
    "\n",
    "#Do not change any code above this line.\n",
    "\n",
    "\n",
    "def reverse_string(string):\n",
    "    #We have defined the stack for you\n",
    "    stack = []\n",
    "    \n",
    "    for char in string:\n",
    "        push(stack,char) #push to stack\n",
    "\n",
    "    new_string = \"\"\n",
    "\n",
    "    while not is_empty(stack): #Check if the stack is empty\n",
    "        new_string += \"\" + stack.pop() #pop the last element\n",
    "\n",
    "    return new_string\n",
    "\n",
    "#Tests\n",
    "input_sentence=input('Input the string to reverse:')\n",
    "print(reverse_string(input_setence))\n"
   ]
  },
  {
   "cell_type": "markdown",
   "id": "db3b55f7",
   "metadata": {},
   "source": [
    "### HOT POTATO SIMULATOR: MINI PROJECT 5.1.2\n",
    "\n",
    "#### Queue Exercise: Hot potato simulator"
   ]
  },
  {
   "cell_type": "code",
   "execution_count": 4,
   "id": "bd94d2df",
   "metadata": {},
   "outputs": [
    {
     "name": "stdout",
     "output_type": "stream",
     "text": [
      "Maria\n"
     ]
    }
   ],
   "source": [
    "#Functions that you have implemented in the Queue section\n",
    "\n",
    "def enqueue(queue, new_item):\n",
    "\tqueue.append(new_item)\n",
    "\n",
    "def dequeue(queue):\n",
    "    #We have added return here, just to return the item that is being removed\n",
    "\treturn queue.pop(0)\n",
    "    \n",
    "def is_empty(queue):\n",
    "\treturn len(queue) == 0\n",
    "\n",
    "def size(queue):\n",
    "    return len(queue)\n",
    "\n",
    "# Do not change code above this line\n",
    "\n",
    "def hot_potato_simulator(players, turns):\n",
    "    hot_potato_queue = [] \n",
    "    \n",
    "    for player in players:\n",
    "        enqueue(hot_potato_queue,player) #Using enqueue function add a player to the queue\n",
    "\n",
    "    while size(hot_potato_queue) > 1: #Using size function check how many elements are there in the queue\n",
    "        \n",
    "        for i in range(turns):\n",
    "            \n",
    "            enqueue(hot_potato_queue, dequeue(hot_potato_queue)) #Enqueue the next-to-last element from the queue to the end\n",
    "\n",
    "        dequeue(hot_potato_queue) # Dequeue the HOT POTATO player\n",
    "\n",
    "    return dequeue(hot_potato_queue) #Dequeue last element from the queue (The winner)\n",
    "\n",
    "\n",
    "## Do not change code below this line\n",
    "players = [\"Peter\", \"John\", \"Luka\", \"Maria\", \"Sophia\", \"Derek\"]\n",
    "turns = 10\n",
    "print(hot_potato_simulator(players, turns))\n"
   ]
  },
  {
   "cell_type": "code",
   "execution_count": null,
   "id": "e7fb622b",
   "metadata": {},
   "outputs": [],
   "source": []
  }
 ],
 "metadata": {
  "kernelspec": {
   "display_name": "Python 3 (ipykernel)",
   "language": "python",
   "name": "python3"
  },
  "language_info": {
   "codemirror_mode": {
    "name": "ipython",
    "version": 3
   },
   "file_extension": ".py",
   "mimetype": "text/x-python",
   "name": "python",
   "nbconvert_exporter": "python",
   "pygments_lexer": "ipython3",
   "version": "3.9.7"
  }
 },
 "nbformat": 4,
 "nbformat_minor": 5
}
