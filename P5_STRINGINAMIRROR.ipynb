{
 "cells": [
  {
   "cell_type": "markdown",
   "id": "7bf93d89",
   "metadata": {},
   "source": [
    "# STRING IN A MIRROR: SB DS PREP COURSE MINI PROJRCT 5.1.2\n",
    "\n",
    "## Implement the function that uses a stack in order to reverse an input string. "
   ]
  },
  {
   "cell_type": "code",
   "execution_count": 5,
   "id": "5c1ec001",
   "metadata": {},
   "outputs": [
    {
     "name": "stdout",
     "output_type": "stream",
     "text": [
      "Input the string to reverse:Your Name\n",
      "emaN ruoY\n"
     ]
    }
   ],
   "source": [
    "def push(stack, new_item):\n",
    "\tstack.append(new_item)\n",
    "\n",
    "def is_empty(stack):\n",
    "\treturn stack == []\n",
    "\n",
    "def size(stack):\n",
    "    return len(stack)\n",
    "\n",
    "def reverse_string(string):\n",
    "    #We have defined the stack for you\n",
    "    stack = []\n",
    "    \n",
    "    for char in string:\n",
    "        push(stack,char) #push to stack\n",
    "\n",
    "    new_string = \"\"\n",
    "\n",
    "    while not is_empty(stack): #Check if the stack is empty\n",
    "        new_string += \"\" + stack.pop() #pop the last element\n",
    "\n",
    "    return new_string\n",
    "\n",
    "#Tests\n",
    "input_sentence=input('Input the string to reverse:')\n",
    "print(reverse_string(input_sentence))"
   ]
  },
  {
   "cell_type": "code",
   "execution_count": null,
   "id": "d9d51110",
   "metadata": {},
   "outputs": [],
   "source": []
  }
 ],
 "metadata": {
  "kernelspec": {
   "display_name": "Python 3 (ipykernel)",
   "language": "python",
   "name": "python3"
  },
  "language_info": {
   "codemirror_mode": {
    "name": "ipython",
    "version": 3
   },
   "file_extension": ".py",
   "mimetype": "text/x-python",
   "name": "python",
   "nbconvert_exporter": "python",
   "pygments_lexer": "ipython3",
   "version": "3.9.7"
  }
 },
 "nbformat": 4,
 "nbformat_minor": 5
}
